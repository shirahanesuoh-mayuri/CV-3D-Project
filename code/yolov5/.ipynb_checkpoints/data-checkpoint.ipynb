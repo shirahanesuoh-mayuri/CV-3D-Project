{
 "cells": [
  {
   "cell_type": "code",
   "execution_count": 1,
   "id": "a157e36b",
   "metadata": {},
   "outputs": [],
   "source": [
    "import os, random\n",
    "from PIL import Image\n",
    "import shutil"
   ]
  },
  {
   "cell_type": "code",
   "execution_count": 2,
   "id": "9a7cd061",
   "metadata": {},
   "outputs": [],
   "source": [
    "def get_all_files_in_folder(folder_path):\n",
    "    all_files = []\n",
    "    for root, dirs, files in os.walk(folder_path):\n",
    "        for file in files:\n",
    "            if file[-4:] == \".png\":\n",
    "                file_path = os.path.join(root, file)\n",
    "                all_files.append(file_path)\n",
    "    return all_files\n",
    "\n",
    "def delete_files_in_directory(directory):\n",
    "    # 遍历目录中的文件\n",
    "    for filename in os.listdir(directory):\n",
    "        file_path = os.path.join(directory, filename)\n",
    "        # 如果文件是普通文件而不是目录，则删除它\n",
    "        if os.path.isfile(file_path):\n",
    "            os.remove(file_path)"
   ]
  },
  {
   "cell_type": "code",
   "execution_count": 6,
   "id": "abafdd26",
   "metadata": {},
   "outputs": [],
   "source": [
    "image_list = get_all_files_in_folder(\"dataset/Driver Drowsiness Dataset (DDD)\")\n",
    "image_list = [i for i in image_list if \".ipynb_checkpoints\" not in i]\n",
    "random.shuffle(image_list)"
   ]
  },
  {
   "cell_type": "code",
   "execution_count": 7,
   "id": "6c978a99",
   "metadata": {},
   "outputs": [],
   "source": [
    "if os.path.exists(\"dataset/yolov5\"):\n",
    "    delete_files_in_directory(\"dataset/yolov5\")\n",
    "for i in range(len(image_list)):\n",
    "    try:\n",
    "        if i<len(image_list)*0.8:\n",
    "            image_path = image_list[i].replace(\"Driver Drowsiness Dataset (DDD)\", \"yolov5/train\").replace(\"Non \", \"Non_\")\n",
    "            shutil.copy(image_list[i], image_path)\n",
    "        else:\n",
    "            image_path = image_list[i].replace(\"Driver Drowsiness Dataset (DDD)\", \"yolov5/val\").replace(\"Non \", \"Non_\")\n",
    "            shutil.copy(image_list[i], image_path)\n",
    "            image_path = image_list[i].replace(\"Driver Drowsiness Dataset (DDD)\", \"yolov5/test\").replace(\"Non \", \"Non_\")\n",
    "            shutil.copy(image_list[i], image_path)\n",
    "    except:\n",
    "        print(image_list[i])"
   ]
  },
  {
   "cell_type": "code",
   "execution_count": null,
   "id": "4d91a829",
   "metadata": {},
   "outputs": [],
   "source": []
  }
 ],
 "metadata": {
  "kernelspec": {
   "display_name": "Python 3",
   "language": "python",
   "name": "python3"
  },
  "language_info": {
   "codemirror_mode": {
    "name": "ipython",
    "version": 3
   },
   "file_extension": ".py",
   "mimetype": "text/x-python",
   "name": "python",
   "nbconvert_exporter": "python",
   "pygments_lexer": "ipython3",
   "version": "3.8.8"
  }
 },
 "nbformat": 4,
 "nbformat_minor": 5
}
