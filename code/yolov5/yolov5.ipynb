{
 "cells": [
  {
   "cell_type": "code",
   "execution_count": 1,
   "id": "7bf39627",
   "metadata": {},
   "outputs": [],
   "source": [
    "import torch\n",
    "from PIL import Image\n",
    "from torchvision import transforms"
   ]
  },
  {
   "cell_type": "code",
   "execution_count": 8,
   "id": "a6ff62dd",
   "metadata": {},
   "outputs": [
    {
     "name": "stdout",
     "output_type": "stream",
     "text": [
      "\u001b[34m\u001b[1mclassify/train: \u001b[0mmodel=../yolov5m-cls.pt, data=/opt/data/private/CV-3D-Project/code/dataset/yolov5, epochs=5, batch_size=128, imgsz=224, nosave=False, cache=None, device=0, workers=8, project=yolov5/runs/train-cls, name=exp, exist_ok=False, pretrained=True, optimizer=Adam, lr0=0.001, decay=5e-05, label_smoothing=0.1, cutoff=None, dropout=None, verbose=False, seed=0, local_rank=-1\n",
      "\u001b[34m\u001b[1mgithub: \u001b[0mskipping check (not a git repository), for updates see https://github.com/ultralytics/yolov5\n",
      "YOLOv5 🚀 2024-4-7 Python-3.9.19 torch-2.2.2+cu121 CUDA:0 (NVIDIA RTX A5000, 24248MiB)\n",
      "\n",
      "\u001b[34m\u001b[1mTensorBoard: \u001b[0mStart with 'tensorboard --logdir yolov5/runs/train-cls', view at http://localhost:6006/\n",
      "\u001b[34m\u001b[1malbumentations: \u001b[0m⚠️ not found, install with `pip install albumentations` (recommended)\n",
      "Model summary: 212 layers, 11679202 parameters, 11679202 gradients, 30.9 GFLOPs\n",
      "\u001b[34m\u001b[1moptimizer:\u001b[0m Adam(lr=0.001) with parameter groups 46 weight(decay=0.0), 47 weight(decay=5e-05), 47 bias\n",
      "Image sizes 224 train, 224 test\n",
      "Using 8 dataloader workers\n",
      "Logging results to \u001b[1myolov5/runs/train-cls/exp7\u001b[0m\n",
      "Starting ../yolov5m-cls.pt training on /opt/data/private/CV-3D-Project/code/dataset/yolov5 dataset with 2 classes for 5 epochs...\n",
      "\n",
      "     Epoch   GPU_mem  train_loss   test_loss    top1_acc    top5_acc\n",
      "       1/5     4.29G       0.212       0.664       0.705           1: 100%|█████\n",
      "       2/5     5.37G       0.201         0.2           1           1: 100%|█████\n",
      "       3/5     5.37G         0.2       0.968       0.616           1: 100%|█████\n",
      "       4/5     5.37G       0.204       0.199           1           1: 100%|█████\n",
      "       5/5     5.37G       0.199         0.2       0.999           1: 100%|█████\n",
      "\n",
      "Training complete (0.067 hours)\n",
      "Results saved to \u001b[1myolov5/runs/train-cls/exp7\u001b[0m\n",
      "Predict:         python classify/predict.py --weights yolov5/runs/train-cls/exp7/weights/best.pt --source im.jpg\n",
      "Validate:        python classify/val.py --weights yolov5/runs/train-cls/exp7/weights/best.pt --data /opt/data/private/CV-3D-Project/code/dataset/yolov5\n",
      "Export:          python export.py --weights yolov5/runs/train-cls/exp7/weights/best.pt --include onnx\n",
      "PyTorch Hub:     model = torch.hub.load('ultralytics/yolov5', 'custom', 'yolov5/runs/train-cls/exp7/weights/best.pt')\n",
      "Visualize:       https://netron.app\n",
      "\n"
     ]
    }
   ],
   "source": [
    "# train\n",
    "!/opt/conda/envs/yolov5/bin/python -m yolov5.classify.train --model ../yolov5m-cls.pt --data /opt/data/private/CV-3D-Project/code/dataset/yolov5 --epochs 5 --img 224 --batch 128"
   ]
  },
  {
   "cell_type": "code",
   "execution_count": 9,
   "id": "b8a5e8c7",
   "metadata": {},
   "outputs": [
    {
     "name": "stdout",
     "output_type": "stream",
     "text": [
      "\u001b[34m\u001b[1mclassify/val: \u001b[0mdata=/opt/data/private/CV-3D-Project/code/dataset/yolov5, weights=['./best.pt'], batch_size=128, imgsz=224, device=, workers=8, verbose=True, project=yolov5/runs/val-cls, name=exp, exist_ok=False, half=False, dnn=False\n",
      "YOLOv5 🚀 2024-4-7 Python-3.9.19 torch-2.2.2+cu121 CUDA:0 (NVIDIA RTX A5000, 24248MiB)\n",
      "\n",
      "Fusing layers... \n",
      "Model summary: 166 layers, 11668754 parameters, 0 gradients, 30.6 GFLOPs\n",
      "testing: 100%|██████████| 95/95 [00:08<00:00, 11.70it/s]\n",
      "                   Class      Images    top1_acc    top5_acc\n",
      "                     all       12071           1           1\n",
      "                  Drowsy        8139           1           1\n",
      "              Non_Drowsy        3932           1           1\n",
      "Speed: 0.1ms pre-process, 0.3ms inference, 0.0ms post-process per image at shape (1, 3, 224, 224)\n",
      "Results saved to \u001b[1myolov5/runs/val-cls/exp\u001b[0m\n"
     ]
    }
   ],
   "source": [
    "#val\n",
    "!/opt/conda/envs/yolov5/bin/python ./yolov5/classify/val.py --weights ./best.pt --data /opt/data/private/CV-3D-Project/code/dataset/yolov5 --img 224"
   ]
  },
  {
   "cell_type": "code",
   "execution_count": null,
   "id": "963ee73d",
   "metadata": {},
   "outputs": [],
   "source": [
    "#predict"
   ]
  }
 ],
 "metadata": {
  "kernelspec": {
   "display_name": "Python 3 (ipykernel)",
   "language": "python",
   "name": "python3"
  },
  "language_info": {
   "codemirror_mode": {
    "name": "ipython",
    "version": 3
   },
   "file_extension": ".py",
   "mimetype": "text/x-python",
   "name": "python",
   "nbconvert_exporter": "python",
   "pygments_lexer": "ipython3",
   "version": "3.8.2"
  }
 },
 "nbformat": 4,
 "nbformat_minor": 5
}
